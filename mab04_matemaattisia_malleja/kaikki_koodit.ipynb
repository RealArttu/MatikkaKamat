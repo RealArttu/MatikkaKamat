{
 "cells": [
  {
   "cell_type": "markdown",
   "metadata": {},
   "source": [
    "<center>Kaikki koodit:</center>"
   ]
  },
  {
   "cell_type": "markdown",
   "metadata": {},
   "source": [
    "-----------------------------------------------------------------------------------------------------------------------------------------------------\n",
    "<center>Kpl 1, yhtälöt</center>"
   ]
  },
  {
   "cell_type": "code",
   "execution_count": 16,
   "metadata": {},
   "outputs": [
    {
     "name": "stdout",
     "output_type": "stream",
     "text": [
      "x = 90\n"
     ]
    }
   ],
   "source": [
    "for x in range(-100, 100): # Pitäisi toimia (muokkaa vaan numeroita) ellei = kummallakin puolella ole x -merkkiä kun sitten ääretön mahdollisuutta.\n",
    "    if 10 + x == 100: # Laita yhtälö tähän\n",
    "        print(f\"x = {x}\")\n",
    "        break"
   ]
  },
  {
   "cell_type": "markdown",
   "metadata": {},
   "source": [
    "Pitäisi myös löytää infinity, tällä löyty jotain: python for x in range infinite"
   ]
  },
  {
   "cell_type": "markdown",
   "metadata": {},
   "source": [
    "<center>Toivottavasti löydän lausekkeen millä ratkaista 3-2*(2*x-7) == 5*(3+4*x) , kun tällä tällä hetkellä on ääretön mahista, ellen sitten... <br> ...keksi joskus jotain muuta </center>"
   ]
  },
  {
   "cell_type": "markdown",
   "metadata": {},
   "source": [
    "<center>Joku numpy löyty hakusanalla: numpy solve x</center>"
   ]
  },
  {
   "cell_type": "markdown",
   "metadata": {},
   "source": [
    "-----------------------------------------------------------------------------------------------------------------------------------------------------\n",
    "<center>Kpl 2 Matemaattinen malli</center>"
   ]
  },
  {
   "cell_type": "markdown",
   "metadata": {},
   "source": [
    "<center>f(x) on aihe, pitää sijoittaa x lausekkeeseen.<br> Tai sitten ratkaise tämmönen, CAS tai NumPy auttaa (31+4.7*x)*(0.2+0.03*x)**2=500 <br> Opettele NumPy! <br> Tai sitten pitää tulkita kuvaajaa </center>"
   ]
  },
  {
   "cell_type": "markdown",
   "metadata": {},
   "source": [
    "----------------------------------------------------------------------------------------------------------------------------------------------------\n",
    "<center>Kpl 3 Lineaarinen funktio ja suora: <br>\n",
    "y = kx + b</center>"
   ]
  },
  {
   "cell_type": "markdown",
   "metadata": {},
   "source": [
    "<center>y ja x koordinaatteja, k kulmakerroin ja b vakiotermi joka kertoo milloin leikkaa y akselin</center>"
   ]
  },
  {
   "cell_type": "code",
   "execution_count": 17,
   "metadata": {},
   "outputs": [],
   "source": [
    "import handcalcs.render # Ei pakollinen, vain LaTeXia varten"
   ]
  },
  {
   "cell_type": "code",
   "execution_count": 18,
   "metadata": {},
   "outputs": [],
   "source": [
    "x1 = -3 #Muuttjat\n",
    "y1 = 20 #Muuttjat\n",
    "x2 = 5 #Muuttjat\n",
    "y2 = -4 #Muuttjat"
   ]
  },
  {
   "cell_type": "code",
   "execution_count": 19,
   "metadata": {},
   "outputs": [
    {
     "name": "stdout",
     "output_type": "stream",
     "text": [
      "\\[\n",
      "\\begin{aligned}\n",
      "k &= \\frac{ \\mathrm{y2} - \\mathrm{y1} }{ \\mathrm{x2} - \\mathrm{x1} }  = \\frac{ -4 - 20 }{ 5 - -3 } &= -3.000  \n",
      "\\end{aligned}\n",
      "\\]\n"
     ]
    }
   ],
   "source": [
    "\n",
    "%%tex\n",
    "k = (y2 - y1)/(x2 - x1)"
   ]
  },
  {
   "cell_type": "code",
   "execution_count": 20,
   "metadata": {},
   "outputs": [
    {
     "name": "stdout",
     "output_type": "stream",
     "text": [
      "k = (-4 - 20)/(5 - -3) = -3.0\n"
     ]
    }
   ],
   "source": [
    "# Abitti sopiva\n",
    "k = (y2 - y1)/(x2 - x1)\n",
    "print(f\"k = ({y2} - {y1})/({x2} - {x1}) = {k}\")"
   ]
  },
  {
   "cell_type": "code",
   "execution_count": null,
   "metadata": {},
   "outputs": [],
   "source": [
    "# y=kx+b\n",
    "x1 = -3\n",
    "\n",
    "x2 = 5\n",
    "\n",
    "y1 = 20\n",
    "\n",
    "y2 = -4\n",
    "\n",
    "\n",
    "\n",
    "k = round((y2 - y1) / (x2 - x1))\n",
    "\n",
    "print(k)\n",
    "\n",
    "\n",
    "\n",
    "b = round(y1 - (k * x1))\n",
    "\n",
    "print(b)\n",
    "\n",
    "\n",
    "\n",
    "print(f\"y = {k}x + {b}\")"
   ]
  },
  {
   "cell_type": "markdown",
   "metadata": {},
   "source": [
    "-----------------------------------------------------------------------------------------------------------------------------------------------------\n",
    "<center>Kpl 4 Suoran yhtälön muodostaminen kuvilla</center>"
   ]
  },
  {
   "cell_type": "markdown",
   "metadata": {},
   "source": [
    "Tehdään kuvaajia ja ratkaistaan tehtäviä niiden avulla. Melkein samaa kuin viime kappale"
   ]
  },
  {
   "cell_type": "markdown",
   "metadata": {},
   "source": [
    "<center>KPL 5 </center>"
   ]
  }
 ],
 "metadata": {
  "kernelspec": {
   "display_name": "Python 3.10.6 ('venv')",
   "language": "python",
   "name": "python3"
  },
  "language_info": {
   "codemirror_mode": {
    "name": "ipython",
    "version": 3
   },
   "file_extension": ".py",
   "mimetype": "text/x-python",
   "name": "python",
   "nbconvert_exporter": "python",
   "pygments_lexer": "ipython3",
   "version": "3.10.6"
  },
  "orig_nbformat": 4,
  "vscode": {
   "interpreter": {
    "hash": "0cf7f7331e7e2f9db445e4bf3bb25f87c92349309a1a3cb39ceb1c9b0e88a0b0"
   }
  }
 },
 "nbformat": 4,
 "nbformat_minor": 2
}
