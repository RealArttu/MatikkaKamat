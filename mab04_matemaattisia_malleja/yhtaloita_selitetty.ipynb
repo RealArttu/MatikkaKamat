{
 "cells": [
  {
   "cell_type": "markdown",
   "metadata": {},
   "source": [
    "Kpl 1 Kerrataan yhtälöitä"
   ]
  },
  {
   "cell_type": "code",
   "execution_count": 1,
   "metadata": {},
   "outputs": [],
   "source": [
    "# Muutama moduuli jotta saisin tarvittaessa LaTeX tulosteen\n",
    "import handcalcs.render\n",
    "#import sympy\n",
    "#from sympy.abc import x\n",
    "#import scipy"
   ]
  },
  {
   "cell_type": "markdown",
   "metadata": {},
   "source": [
    "<center><h3>Tehtävä 1.3 a.</h3></center>"
   ]
  },
  {
   "cell_type": "code",
   "execution_count": 2,
   "metadata": {},
   "outputs": [
    {
     "name": "stdout",
     "output_type": "stream",
     "text": [
      "x = 3\n"
     ]
    }
   ],
   "source": [
    "# lasku 5x + 6 = 21\n",
    "\n",
    "for x in range (-100, 100):\n",
    "    if 5*x + 6 == 21:\n",
    "        print(f\"x = {x}\")\n",
    "        break"
   ]
  },
  {
   "cell_type": "markdown",
   "metadata": {},
   "source": [
    "Tulostetaan laskun tulos LaTeX muodossa ja LaTeX koodina, joka pienen muokkauksen jälkeen sopii abitti -editoriin."
   ]
  },
  {
   "cell_type": "code",
   "execution_count": 3,
   "metadata": {},
   "outputs": [
    {
     "data": {
      "text/latex": [
       "\\[\n",
       "\\begin{aligned}\n",
       "\\mathrm{lasku} &= 5 \\cdot x + 6 \\\\&= 21 \\\\&= 5 \\cdot 3 + 6 \\\\&= 21 \\\\&= True  \\\\[10pt]\n",
       "\\end{aligned}\n",
       "\\]"
      ],
      "text/plain": [
       "<IPython.core.display.Latex object>"
      ]
     },
     "metadata": {},
     "output_type": "display_data"
    }
   ],
   "source": [
    "%%render long\n",
    "lasku = 5*x + 6 == 21"
   ]
  },
  {
   "cell_type": "code",
   "execution_count": 4,
   "metadata": {},
   "outputs": [
    {
     "name": "stdout",
     "output_type": "stream",
     "text": [
      "\\[\n",
      "\\begin{aligned}\n",
      "\\mathrm{lasku} &= 5 \\cdot x + 6 \\\\&= 21 \\\\&= 5 \\cdot 3 + 6 \\\\&= 21 \\\\&= True  \\\\[10pt]\n",
      "\\end{aligned}\n",
      "\\]\n"
     ]
    }
   ],
   "source": [
    "%%tex long\n",
    "lasku = 5*x + 6 == 21"
   ]
  },
  {
   "cell_type": "markdown",
   "metadata": {},
   "source": [
    "ABITTI -Editoriin muokattu sopivaksi"
   ]
  },
  {
   "cell_type": "markdown",
   "metadata": {},
   "source": [
    "<center><img src=\"https://arthurs-scripts.000webhostapp.com/kuva_docuun/kuva.png\"/></center>"
   ]
  },
  {
   "cell_type": "markdown",
   "metadata": {},
   "source": [
    "<center><h3>b.</h3></center>"
   ]
  },
  {
   "cell_type": "code",
   "execution_count": 5,
   "metadata": {},
   "outputs": [
    {
     "name": "stdout",
     "output_type": "stream",
     "text": [
      "x = 1\n"
     ]
    }
   ],
   "source": [
    "# Lasku  −6x + 4 = 2 − 4x\n",
    "\n",
    "for x in range(-100, 100):\n",
    "    if -6*x + 4 == 2 - 4*x:\n",
    "        print(f\"x = {x}\")\n",
    "        break"
   ]
  },
  {
   "cell_type": "code",
   "execution_count": 6,
   "metadata": {},
   "outputs": [
    {
     "data": {
      "text/latex": [
       "\\[\n",
       "\\begin{aligned}\n",
       "\\mathrm{lasku} &= \\left( - 6 \\right) \\cdot x + 4 \\\\&= 2 - 4 \\cdot x \\\\&= \\left( - 6 \\right) \\cdot 1 + 4 \\\\&= 2 - 4 \\cdot 1 \\\\&= True  \\\\[10pt]\n",
       "\\end{aligned}\n",
       "\\]"
      ],
      "text/plain": [
       "<IPython.core.display.Latex object>"
      ]
     },
     "metadata": {},
     "output_type": "display_data"
    }
   ],
   "source": [
    "%%render long\n",
    "lasku = -6*x + 4 == 2 - 4*x"
   ]
  },
  {
   "cell_type": "code",
   "execution_count": 7,
   "metadata": {},
   "outputs": [
    {
     "name": "stdout",
     "output_type": "stream",
     "text": [
      "\\[\n",
      "\\begin{aligned}\n",
      "\\mathrm{lasku} &= \\left( - 6 \\right) \\cdot x + 4 \\\\&= 2 - 4 \\cdot x \\\\&= \\left( - 6 \\right) \\cdot 1 + 4 \\\\&= 2 - 4 \\cdot 1 \\\\&= True  \\\\[10pt]\n",
      "\\end{aligned}\n",
      "\\]\n"
     ]
    }
   ],
   "source": [
    "%%tex long\n",
    "lasku = -6*x + 4 == 2 - 4*x"
   ]
  }
 ],
 "metadata": {
  "kernelspec": {
   "display_name": "Python 3.10.6 ('venv': venv)",
   "language": "python",
   "name": "python3"
  },
  "language_info": {
   "codemirror_mode": {
    "name": "ipython",
    "version": 3
   },
   "file_extension": ".py",
   "mimetype": "text/x-python",
   "name": "python",
   "nbconvert_exporter": "python",
   "pygments_lexer": "ipython3",
   "version": "3.10.6"
  },
  "orig_nbformat": 4,
  "vscode": {
   "interpreter": {
    "hash": "40f8ae86d60538ab7f90483bfb3d130e4946493dac3c73eb128c8c36014cccec"
   }
  }
 },
 "nbformat": 4,
 "nbformat_minor": 2
}
