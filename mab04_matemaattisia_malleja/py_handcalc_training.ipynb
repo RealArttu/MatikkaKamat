{
 "cells": [
  {
   "cell_type": "code",
   "execution_count": 2,
   "metadata": {},
   "outputs": [],
   "source": [
    "import handcalcs.render\n",
    "from math import *"
   ]
  },
  {
   "cell_type": "code",
   "execution_count": 3,
   "metadata": {},
   "outputs": [],
   "source": [
    "# Matikankirjaan yhteensopiva LaTeX, pientä syntax editointia, että AbittiLaTeX toimisi (amp -merkit pois)\n",
    "p = 5\n",
    "r = 12\n",
    "s = 3.5"
   ]
  },
  {
   "cell_type": "code",
   "execution_count": 4,
   "metadata": {},
   "outputs": [
    {
     "name": "stdout",
     "output_type": "stream",
     "text": [
      "\\[\n",
      "\\begin{aligned}\n",
      "t &= \\tan \\left( \\left( p \\right) ^{ r } + \\frac{ r }{ s } \\right) \\cdot r  = \\tan \\left( \\left( 5 \\right) ^{ 12 } + \\frac{ 12 }{ 3.500 } \\right) \\cdot 12 &= -23.933  \n",
      "\\end{aligned}\n",
      "\\]\n"
     ]
    }
   ],
   "source": [
    "%%tex short\n",
    "\n",
    "t = tan( p ** r + r / s) * r"
   ]
  },
  {
   "cell_type": "code",
   "execution_count": 5,
   "metadata": {},
   "outputs": [
    {
     "name": "stdout",
     "output_type": "stream",
     "text": [
      "kaava: tan( p ** r + r / s) * r\n",
      "tan( 5 ** 12 + 12 / 13.5) * 12\n",
      "-6.620067491047227\n",
      "-6.62\n"
     ]
    }
   ],
   "source": [
    "# Abitti yhteensopiva\n",
    "from math import tan\n",
    "\n",
    "p = 5\n",
    "r = 12\n",
    "s = 13.5\n",
    "\n",
    "print(\"kaava: tan( p ** r + r / s) * r\")\n",
    "lauseke = f\"tan( {p} ** {r} + {r} / {s}) * {r}\"\n",
    "print (lauseke)\n",
    "\n",
    "t = tan( p ** r + r / s) * r\n",
    "print (t)\n",
    "print (round(t, 2))"
   ]
  }
 ],
 "metadata": {
  "kernelspec": {
   "display_name": "Python 3.10.6 ('venv': venv)",
   "language": "python",
   "name": "python3"
  },
  "language_info": {
   "codemirror_mode": {
    "name": "ipython",
    "version": 3
   },
   "file_extension": ".py",
   "mimetype": "text/x-python",
   "name": "python",
   "nbconvert_exporter": "python",
   "pygments_lexer": "ipython3",
   "version": "3.10.6"
  },
  "orig_nbformat": 4,
  "vscode": {
   "interpreter": {
    "hash": "a078926dcb2b6a719ad9651e3c43fa5da252968f3e2c374782b7988d51029e36"
   }
  }
 },
 "nbformat": 4,
 "nbformat_minor": 2
}
