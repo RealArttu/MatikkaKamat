{
 "cells": [
  {
   "cell_type": "code",
   "execution_count": 1,
   "metadata": {},
   "outputs": [
    {
     "ename": "AttributeError",
     "evalue": "module 'sys' has no attribute 'maxint'",
     "output_type": "error",
     "traceback": [
      "\u001b[1;31m---------------------------------------------------------------------------\u001b[0m",
      "\u001b[1;31mAttributeError\u001b[0m                            Traceback (most recent call last)",
      "\u001b[1;32mc:\\Users\\ullmaar\\Desktop\\python\\yhtaloratkaisu_pythonilla.ipynb Cell 1\u001b[0m in \u001b[0;36m<cell line: 5>\u001b[1;34m()\u001b[0m\n\u001b[0;32m      <a href='vscode-notebook-cell:/c%3A/Users/ullmaar/Desktop/python/yhtaloratkaisu_pythonilla.ipynb#W0sZmlsZQ%3D%3D?line=2'>3</a>\u001b[0m z \u001b[39m=\u001b[39m \u001b[39m6\u001b[39m\n\u001b[0;32m      <a href='vscode-notebook-cell:/c%3A/Users/ullmaar/Desktop/python/yhtaloratkaisu_pythonilla.ipynb#W0sZmlsZQ%3D%3D?line=3'>4</a>\u001b[0m a \u001b[39m=\u001b[39m \u001b[39m21\u001b[39m\n\u001b[1;32m----> <a href='vscode-notebook-cell:/c%3A/Users/ullmaar/Desktop/python/yhtaloratkaisu_pythonilla.ipynb#W0sZmlsZQ%3D%3D?line=4'>5</a>\u001b[0m \u001b[39mfor\u001b[39;00m x \u001b[39min\u001b[39;00m \u001b[39mrange\u001b[39m (\u001b[39m-\u001b[39msys\u001b[39m.\u001b[39;49mmaxint \u001b[39m-\u001b[39m \u001b[39m1\u001b[39m, sys\u001b[39m.\u001b[39mmaxint):\n\u001b[0;32m      <a href='vscode-notebook-cell:/c%3A/Users/ullmaar/Desktop/python/yhtaloratkaisu_pythonilla.ipynb#W0sZmlsZQ%3D%3D?line=5'>6</a>\u001b[0m     \u001b[39mif\u001b[39;00m y\u001b[39m*\u001b[39mx \u001b[39m+\u001b[39m z \u001b[39m==\u001b[39m a:\n\u001b[0;32m      <a href='vscode-notebook-cell:/c%3A/Users/ullmaar/Desktop/python/yhtaloratkaisu_pythonilla.ipynb#W0sZmlsZQ%3D%3D?line=6'>7</a>\u001b[0m         \u001b[39mprint\u001b[39m(\u001b[39mf\u001b[39m\u001b[39m\"\u001b[39m\u001b[39mx = \u001b[39m\u001b[39m{\u001b[39;00mx\u001b[39m}\u001b[39;00m\u001b[39m\"\u001b[39m)\n",
      "\u001b[1;31mAttributeError\u001b[0m: module 'sys' has no attribute 'maxint'"
     ]
    }
   ],
   "source": [
    "import sys\n",
    "y = 5\n",
    "z = 6\n",
    "a = 21\n",
    "for x in range (-sys.maxint - 1, sys.maxint):\n",
    "    if y*x + z == a:\n",
    "        print(f\"x = {x}\")\n",
    "        break"
   ]
  },
  {
   "cell_type": "code",
   "execution_count": 2,
   "metadata": {},
   "outputs": [
    {
     "name": "stdout",
     "output_type": "stream",
     "text": [
      "5*3 + 6 = 21\n",
      "x on 3\n"
     ]
    }
   ],
   "source": [
    "print (f\"{y}*{x} + {z} = {a}\")\n",
    "print (f\"x on {x}\")\n"
   ]
  },
  {
   "cell_type": "markdown",
   "metadata": {},
   "source": [
    "<center><h3>Vastaus: (Teht. 1.3 a)</h3></center>"
   ]
  },
  {
   "cell_type": "markdown",
   "metadata": {},
   "source": [
    "<center><img src=\"https://arthurs-scripts.000webhostapp.com/kuva_docuun/kuva.png\"/></center>"
   ]
  },
  {
   "cell_type": "markdown",
   "metadata": {},
   "source": [
    "<center><h4>Kun ratkaisen ongelmia pythonilla, pitäisikö minun laittaa vielä vastaukseen välivaiheet/koodi millä ratkaisin (Koetta ajatellen)? Ainakin vastaus on oikein, ja aina ennen on mainostettu välivaheiden tärkeyttä niin sen takia jäin vielä sitä miettimään.</h4></center>"
   ]
  }
 ],
 "metadata": {
  "kernelspec": {
   "display_name": "Python 3.10.6 ('venv': venv)",
   "language": "python",
   "name": "python3"
  },
  "language_info": {
   "codemirror_mode": {
    "name": "ipython",
    "version": 3
   },
   "file_extension": ".py",
   "mimetype": "text/x-python",
   "name": "python",
   "nbconvert_exporter": "python",
   "pygments_lexer": "ipython3",
   "version": "3.10.6"
  },
  "orig_nbformat": 4,
  "vscode": {
   "interpreter": {
    "hash": "a078926dcb2b6a719ad9651e3c43fa5da252968f3e2c374782b7988d51029e36"
   }
  }
 },
 "nbformat": 4,
 "nbformat_minor": 2
}
