{
 "cells": [
  {
   "cell_type": "code",
   "execution_count": 47,
   "metadata": {},
   "outputs": [],
   "source": [
    "import handcalcs.render"
   ]
  },
  {
   "cell_type": "code",
   "execution_count": 48,
   "metadata": {},
   "outputs": [],
   "source": [
    "x2 = -2\n",
    "y2 = 12\n",
    "x1 = -7\n",
    "y1 = -3"
   ]
  },
  {
   "cell_type": "code",
   "execution_count": 49,
   "metadata": {},
   "outputs": [
    {
     "name": "stdout",
     "output_type": "stream",
     "text": [
      "\\[\n",
      "\\begin{aligned}\n",
      "k &= \\frac{ \\mathrm{y2} - \\mathrm{y1} }{ \\mathrm{x2} - \\mathrm{x1} }  = \\frac{ 12 - -3 }{ -2 - -7 } &= 3.000  \n",
      "\\end{aligned}\n",
      "\\]\n"
     ]
    }
   ],
   "source": [
    "%%tex\n",
    "k = (y2 - y1)/(x2 - x1) "
   ]
  },
  {
   "cell_type": "code",
   "execution_count": 50,
   "metadata": {},
   "outputs": [
    {
     "name": "stdout",
     "output_type": "stream",
     "text": [
      "k = (12 - -3)/(-2 - -7) = 3.0\n"
     ]
    }
   ],
   "source": [
    "print(f\"k = ({y2} - {y1})/({x2} - {x1}) = {k}\")"
   ]
  },
  {
   "cell_type": "code",
   "execution_count": 52,
   "metadata": {},
   "outputs": [
    {
     "name": "stdout",
     "output_type": "stream",
     "text": [
      "b = 18\n"
     ]
    }
   ],
   "source": [
    "for b in range(-100, 100):\n",
    "    if -3 == -21 + b:\n",
    "        print(f\"b = {b}\")\n",
    "        break"
   ]
  }
 ],
 "metadata": {
  "kernelspec": {
   "display_name": "Python 3.10.6 ('venv': venv)",
   "language": "python",
   "name": "python3"
  },
  "language_info": {
   "codemirror_mode": {
    "name": "ipython",
    "version": 3
   },
   "file_extension": ".py",
   "mimetype": "text/x-python",
   "name": "python",
   "nbconvert_exporter": "python",
   "pygments_lexer": "ipython3",
   "version": "3.10.6"
  },
  "orig_nbformat": 4,
  "vscode": {
   "interpreter": {
    "hash": "40f8ae86d60538ab7f90483bfb3d130e4946493dac3c73eb128c8c36014cccec"
   }
  }
 },
 "nbformat": 4,
 "nbformat_minor": 2
}
