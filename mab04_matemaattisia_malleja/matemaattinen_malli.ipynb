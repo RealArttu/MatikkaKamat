{
 "cells": [
  {
   "cell_type": "code",
   "execution_count": 7,
   "metadata": {},
   "outputs": [],
   "source": [
    "import handcalcs.render"
   ]
  },
  {
   "cell_type": "markdown",
   "metadata": {},
   "source": [
    "<center>Teht. 2.5 a</center>"
   ]
  },
  {
   "cell_type": "code",
   "execution_count": 8,
   "metadata": {},
   "outputs": [
    {
     "name": "stdout",
     "output_type": "stream",
     "text": [
      "(31 + 4.7*10)*(0.2 + 0.03*10)**2\n",
      "19.5\n"
     ]
    }
   ],
   "source": [
    "# F(x) = (31 + 4.7*x)*(0.2 + 0.03*x)**2\n",
    "\n",
    "x = 10\n",
    "f = (31 + 4.7*x)*(0.2 + 0.03*x)**2\n",
    "print(f\"(31 + 4.7*{x})*(0.2 + 0.03*{x})**2\")\n",
    "print (f)"
   ]
  },
  {
   "cell_type": "code",
   "execution_count": 9,
   "metadata": {},
   "outputs": [
    {
     "data": {
      "text/latex": [
       "\\[\n",
       "\\begin{aligned}\n",
       "f &= \\left( 31 + 4.7 \\cdot x \\right) \\cdot \\left( 0.2 + 0.03 \\cdot x \\right) ^{ 2 } \\\\&= \\left( 31 + 4.7 \\cdot 10 \\right) \\cdot \\left( 0.2 + 0.03 \\cdot 10 \\right) ^{ 2 } \\\\&= 19.500  \\\\[10pt]\n",
       "\\end{aligned}\n",
       "\\]"
      ],
      "text/plain": [
       "<IPython.core.display.Latex object>"
      ]
     },
     "metadata": {},
     "output_type": "display_data"
    }
   ],
   "source": [
    "%%render long\n",
    "\n",
    "f = (31 + 4.7*x)*(0.2 + 0.03*x)**2"
   ]
  },
  {
   "cell_type": "markdown",
   "metadata": {},
   "source": [
    "<center>b</center>"
   ]
  },
  {
   "cell_type": "code",
   "execution_count": 10,
   "metadata": {},
   "outputs": [
    {
     "name": "stdout",
     "output_type": "stream",
     "text": [
      "<class 'float'>\n",
      "<class 'float'>\n"
     ]
    }
   ],
   "source": [
    "import math\n",
    "print (type(math.inf))\n",
    "print (type(-math.inf))"
   ]
  },
  {
   "cell_type": "code",
   "execution_count": 11,
   "metadata": {},
   "outputs": [
    {
     "name": "stdout",
     "output_type": "stream",
     "text": [
      "<class 'float'>\n"
     ]
    }
   ],
   "source": [
    "print (type(float((31+4.7*x)*(0.2+0.03 * x)**2 == 500)))"
   ]
  }
 ],
 "metadata": {
  "kernelspec": {
   "display_name": "Python 3.10.6 ('venv': venv)",
   "language": "python",
   "name": "python3"
  },
  "language_info": {
   "codemirror_mode": {
    "name": "ipython",
    "version": 3
   },
   "file_extension": ".py",
   "mimetype": "text/x-python",
   "name": "python",
   "nbconvert_exporter": "python",
   "pygments_lexer": "ipython3",
   "version": "3.10.6"
  },
  "orig_nbformat": 4,
  "vscode": {
   "interpreter": {
    "hash": "a078926dcb2b6a719ad9651e3c43fa5da252968f3e2c374782b7988d51029e36"
   }
  }
 },
 "nbformat": 4,
 "nbformat_minor": 2
}
