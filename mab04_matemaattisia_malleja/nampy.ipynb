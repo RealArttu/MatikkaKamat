{
 "cells": [
  {
   "cell_type": "code",
   "execution_count": 47,
   "metadata": {},
   "outputs": [],
   "source": [
    "import numpy as np"
   ]
  },
  {
   "cell_type": "code",
   "execution_count": 48,
   "metadata": {},
   "outputs": [
    {
     "data": {
      "text/plain": [
       "array([ 6, 15, 50])"
      ]
     },
     "execution_count": 48,
     "metadata": {},
     "output_type": "execute_result"
    }
   ],
   "source": [
    "a = np.array([1,3,5])\n",
    "b = np.array([6,5,10], dtype='int32')\n",
    "a*b"
   ]
  },
  {
   "cell_type": "code",
   "execution_count": 49,
   "metadata": {},
   "outputs": [
    {
     "name": "stdout",
     "output_type": "stream",
     "text": [
      "[[ 9.  8. 10.  0.]\n",
      " [ 2.  5. 98. 10.]]\n"
     ]
    }
   ],
   "source": [
    "c = np.array([[9.0,8.0,10,0], [2.0,5.0,98.0,10.0]])\n",
    "print(c)"
   ]
  },
  {
   "cell_type": "code",
   "execution_count": 50,
   "metadata": {},
   "outputs": [
    {
     "name": "stdout",
     "output_type": "stream",
     "text": [
      "2\n",
      "(2, 4)\n",
      "int32\n",
      "4\n",
      "12\n",
      "64\n"
     ]
    }
   ],
   "source": [
    "# Get number of dimensions\n",
    "print(c.ndim)\n",
    "# Get shape\n",
    "print(c.shape) # (row, col)\n",
    "# Get data type\n",
    "print(b.dtype)\n",
    "# Get size\n",
    "print(b.itemsize)\n",
    "# Get total size\n",
    "print(b.nbytes)\n",
    "print(c.nbytes)"
   ]
  }
 ],
 "metadata": {
  "kernelspec": {
   "display_name": "Python 3.10.6 ('venv': venv)",
   "language": "python",
   "name": "python3"
  },
  "language_info": {
   "codemirror_mode": {
    "name": "ipython",
    "version": 3
   },
   "file_extension": ".py",
   "mimetype": "text/x-python",
   "name": "python",
   "nbconvert_exporter": "python",
   "pygments_lexer": "ipython3",
   "version": "3.10.6"
  },
  "orig_nbformat": 4,
  "vscode": {
   "interpreter": {
    "hash": "a078926dcb2b6a719ad9651e3c43fa5da252968f3e2c374782b7988d51029e36"
   }
  }
 },
 "nbformat": 4,
 "nbformat_minor": 2
}
