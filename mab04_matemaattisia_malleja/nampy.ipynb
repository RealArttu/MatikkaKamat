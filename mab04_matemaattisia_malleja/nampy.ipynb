{
 "cells": [
  {
   "cell_type": "code",
   "execution_count": null,
   "metadata": {},
   "outputs": [],
   "source": [
    "import numpy as np"
   ]
  },
  {
   "cell_type": "code",
   "execution_count": null,
   "metadata": {},
   "outputs": [],
   "source": [
    "a = np.array([1,3,5])\n",
    "b = np.array([6,5,10], dtype='int32')\n",
    "a*b"
   ]
  },
  {
   "cell_type": "code",
   "execution_count": null,
   "metadata": {},
   "outputs": [],
   "source": [
    "c = np.array([[9.0,8.0,10,0], [2.0,5.0,98.0,10.0]])\n",
    "print(c)"
   ]
  },
  {
   "cell_type": "code",
   "execution_count": null,
   "metadata": {},
   "outputs": [],
   "source": [
    "# Get number of dimensions\n",
    "print(c.ndim)\n",
    "# Get shape\n",
    "print(c.shape) # (row, col)\n",
    "# Get data type\n",
    "print(b.dtype)\n",
    "# Get size\n",
    "print(b.itemsize)\n",
    "# Get total size\n",
    "print(b.nbytes)\n",
    "print(c.nbytes)"
   ]
  }
 ],
 "metadata": {
  "kernelspec": {
   "display_name": "Python 3.10.6 ('venv')",
   "language": "python",
   "name": "python3"
  },
  "language_info": {
   "codemirror_mode": {
    "name": "ipython",
    "version": 3
   },
   "file_extension": ".py",
   "mimetype": "text/x-python",
   "name": "python",
   "nbconvert_exporter": "python",
   "pygments_lexer": "ipython3",
   "version": "3.10.6"
  },
  "orig_nbformat": 4,
  "vscode": {
   "interpreter": {
    "hash": "0cf7f7331e7e2f9db445e4bf3bb25f87c92349309a1a3cb39ceb1c9b0e88a0b0"
   }
  }
 },
 "nbformat": 4,
 "nbformat_minor": 2
}
