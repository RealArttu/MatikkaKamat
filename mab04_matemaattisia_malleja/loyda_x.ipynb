{
 "cells": [
  {
   "cell_type": "code",
   "execution_count": null,
   "metadata": {},
   "outputs": [],
   "source": [
    "for x in range(-100, 100):\n",
    "    if 10 + x == 100:\n",
    "        print(f\"x = {x}\")\n",
    "        break"
   ]
  }
 ],
 "metadata": {
  "kernelspec": {
   "display_name": "Python 3.10.6 ('venv': venv)",
   "language": "python",
   "name": "python3"
  },
  "language_info": {
   "name": "python",
   "version": "3.10.6"
  },
  "orig_nbformat": 4,
  "vscode": {
   "interpreter": {
    "hash": "a078926dcb2b6a719ad9651e3c43fa5da252968f3e2c374782b7988d51029e36"
   }
  }
 },
 "nbformat": 4,
 "nbformat_minor": 2
}
