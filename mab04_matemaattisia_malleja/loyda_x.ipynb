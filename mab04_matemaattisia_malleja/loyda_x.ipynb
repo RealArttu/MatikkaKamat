{
 "cells": [
  {
   "cell_type": "code",
   "execution_count": 10,
   "metadata": {},
   "outputs": [],
   "source": [
    "for x in range(-100, 100):\n",
    "    if 5*x**6+7 == 2:\n",
    "        print(f\"x = {x}\")\n",
    "        break"
   ]
  }
 ],
 "metadata": {
  "kernelspec": {
   "display_name": "Python 3.10.6 ('venv')",
   "language": "python",
   "name": "python3"
  },
  "language_info": {
   "codemirror_mode": {
    "name": "ipython",
    "version": 3
   },
   "file_extension": ".py",
   "mimetype": "text/x-python",
   "name": "python",
   "nbconvert_exporter": "python",
   "pygments_lexer": "ipython3",
   "version": "3.10.6"
  },
  "orig_nbformat": 4,
  "vscode": {
   "interpreter": {
    "hash": "0cf7f7331e7e2f9db445e4bf3bb25f87c92349309a1a3cb39ceb1c9b0e88a0b0"
   }
  }
 },
 "nbformat": 4,
 "nbformat_minor": 2
}
